{
 "cells": [
  {
   "attachments": {},
   "cell_type": "markdown",
   "id": "41759e69-a282-4b6b-980c-686179e8ae4b",
   "metadata": {},
   "source": [
    "# Miniforge3のインストールと初期設定\n",
    "\n",
    "Pythonを入れる方法はいくつかありますが、高谷オススメのWindowsへのインストール方法は「Miniforge3」という配布パッケージを使う方法です。\n",
    "これを使うとPythonと数値計算に良く使うライブラリを簡単にインストールすることができます。\n",
    "\n",
    "まずコマンドプロンプトを起動します。Win + R (Winキーを押したままRを押す) を押すと「ファイル名を指定して実行」というウィンドウが現れるので、そこに「cmd」と入力してエンターキーを押します。\n",
    "\n",
    "するとコマンドプロンプトが表示されるので、「winget install CondaForge.Miniforge3」と入力してエンターキーを押します。しばらく待ったらインストールが終わります。\n",
    "もしwingetが正常に動かない場合はMicrosoft Storeから「アプリ インストーラー」を最新版に更新してください。Storeはスタートメニューから起動できます。\n",
    "\n",
    "Miniforgeを起動します。スタートメニューから「miniforge3 Prompt」を探して起動してください。検索メニューを活用すると素早く起動できます。\n",
    "Miniforge3 Promptはminiforgeを動かす設定がされているコマンドプロンプトです。以下、プロンプトと呼ぶことにします。\n",
    "\n",
    "プロンプトで「mamba update --all」と入力、実行してしばらく待機します。これでminiforge3のパッケージが最新に更新されます。\n",
    "\n",
    "更新が完了したら、次のパッケージをインストールします。\n",
    "\n",
    "- numpy\n",
    "- scipy\n",
    "- pandas\n",
    "- sympy\n",
    "- control\n",
    "- scikit-learn\n",
    "- matplotlib\n",
    "- seaborn\n",
    "- jupyterlab\n",
    "\n",
    "1つずつ入れる場合は次のようにプロンプトへ入力します。numpyを入れる場合、\n",
    "\n",
    "```\n",
    "mamba install numpy\n",
    "```\n",
    "\n",
    "まとめて入れる場合、\n",
    "\n",
    "```\n",
    "mamba install numpy scipy pandas sympy control scikit-learn matplotlib seaborn jupyterlab\n",
    "```\n",
    "\n",
    "どちらの方法でも構いません。まあ、まとめて入れるほうがラクだと思います。\n",
    "\n",
    "次に、jupyterlabの日本語化の設定をします。jupyterlabはpythonを書くソフトですが、標準では英語でメニュー等が表示されます。英語のままで問題なければこの作業はやらなくて構いません。\n",
    "日本語パッケージをpipというソフトを使って入れます。プロンプトで以下を打ち込みます。\n",
    "\n",
    "```\n",
    "pip install jupyterlab-language-pack-ja-JP\n",
    "```\n",
    "\n",
    "インストールしたらjupyterlabのメニューから日本語を選択して切り替えます。この操作はjupyterlabを使う時に説明します。"
   ]
  }
 ],
 "metadata": {
  "kernelspec": {
   "display_name": "Python 3 (ipykernel)",
   "language": "python",
   "name": "python3"
  },
  "language_info": {
   "codemirror_mode": {
    "name": "ipython",
    "version": 3
   },
   "file_extension": ".py",
   "mimetype": "text/x-python",
   "name": "python",
   "nbconvert_exporter": "python",
   "pygments_lexer": "ipython3",
   "version": "3.10.13"
  }
 },
 "nbformat": 4,
 "nbformat_minor": 5
}
