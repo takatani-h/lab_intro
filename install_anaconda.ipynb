{
 "cells": [
  {
   "cell_type": "markdown",
   "id": "d5efd984",
   "metadata": {},
   "source": [
    "# Anacondaとライブラリのインストール\n",
    "\n",
    "AnacondaはPythonと良く使う計算ライブラリが一つになった配布環境 (ディストリビューション) です。\n",
    "以下に示すような、高谷研で使うほとんどのライブラリがanacondaに含まれています。\n",
    "\n",
    "* numpy\n",
    "* scipy\n",
    "* matplotlib\n",
    "* pandas\n",
    "* scikit-learn\n",
    "\n",
    "高谷研ではさらに以下のライブラリを追加でインストールします。\n",
    "\n",
    "* pyserial: Pythonで外部機器、装置を操作することができる。\n",
    "* python-control: Pythonで制御工学関係のツールを使うことができる。\n",
    "\n",
    "Pythonとそのライブラリをインストールする方法はanaconda以外にも様々あります。\n",
    "個人的なこだわりがある場合は各自好きな方法でインストールしてください。\n",
    "\n",
    "このマニュアルではWindowsを対象に説明します。\n",
    "macOSでもanacondaやライブラリをインストールすることはできますが、\n",
    "手順が少し異なります。\n",
    "どうしてもmacOSを使いたい場合は自力で導入してください。"
   ]
  },
  {
   "cell_type": "markdown",
   "id": "2ee1aac4",
   "metadata": {},
   "source": [
    "## Anacondaのインストール\n",
    "\n",
    "1. [Anacondaのダウンロードページ](https://www.anaconda.com/download) (https://www.anaconda.com/download) にアクセスする。\n",
    "2. Downloadボタンから最新のインストーラをダウンロードする。2024-03-04時点では`Anaconda3-2024.02-1-Windows-x86_64.exe`がダウンロードされる。\n",
    "3. インストーラを起動して英語の指示に従いインストールを行う。\n",
    "    - チェックボックスは下画像の通り。\n",
    "    - Destination Folderは日本語が含まれない場所を指定するほうが良い。日本語が含まれていると不具合を起こすことがある。\n",
    "\n",
    "![Anacondaインストーラ画面1](./anaconda_figures/anaconda_installer_1.png)\n",
    "\n",
    "![Anacondaインストーラ画面2](./anaconda_figures/anaconda_installer_3.png)\n",
    "\n",
    "![Anacondaインストーラ画面3](./anaconda_figures/anaconda_installer_7.png)\n",
    "\n",
    "![Anacondaインストーラ画面4](./anaconda_figures/anaconda_installer_6.png)\n",
    "\n",
    "![Anacondaインストーラ画面5](./anaconda_figures/anaconda_installer_2.png)\n",
    "\n",
    "![Anacondaインストーラ画面6](./anaconda_figures/anaconda_installer_5.png)\n",
    "\n",
    "![Anacondaインストーラ画面7](./anaconda_figures/anaconda_installer_4.png)\n",
    "\n",
    "![Anacondaインストーラ画面8](./anaconda_figures/anaconda_installer_8.png)"
   ]
  },
  {
   "cell_type": "markdown",
   "id": "ac91dc64",
   "metadata": {},
   "source": [
    "## ライブラリのインストール\n",
    "\n",
    "1. スタートメニューから`Anaconda Prompt`を起動する。`([y]/n)?`と尋ねられた場合は`y`を入力してエンター押す。\n",
    "2. 次のコマンドを順番に入力する。\n",
    "    - `conda update -y conda`\n",
    "    - `conda install -y pyserial`\n",
    "    - `conda install -c conda-forge -y control slycot`\n",
    "\n",
    "Condaによるパッケージ追加はanacondaのバージョンや時期によって上手く行かないことがあります。\n",
    "上手く行かない場合は高谷を呼んでください。\n",
    "\n",
    "![Anaconda Prompt](./anaconda_figures/prompt_in_startmenu.png)"
   ]
  },
  {
   "cell_type": "code",
   "execution_count": null,
   "id": "b5e6a312",
   "metadata": {},
   "outputs": [],
   "source": []
  }
 ],
 "metadata": {
  "kernelspec": {
   "display_name": "Python 3 (ipykernel)",
   "language": "python",
   "name": "python3"
  },
  "language_info": {
   "codemirror_mode": {
    "name": "ipython",
    "version": 3
   },
   "file_extension": ".py",
   "mimetype": "text/x-python",
   "name": "python",
   "nbconvert_exporter": "python",
   "pygments_lexer": "ipython3",
   "version": "3.11.7"
  }
 },
 "nbformat": 4,
 "nbformat_minor": 5
}
