{
 "cells": [
  {
   "cell_type": "markdown",
   "id": "75d57ccd-1a1c-464a-9cc1-5e26ded60b2e",
   "metadata": {},
   "source": [
    "# TeXLiveのインストール\n",
    "\n",
    "TeXLiveはTeXと関連するパッケージ群をまとめた配布セット (ディストリビューション) です。\n",
    "ここでは高谷が配布する報告書テンプレートをコンパイル (`.tex`ファイルから`.pdf`ファイルを作る) するために必要なパッケージ群のインストールを行います。"
   ]
  },
  {
   "cell_type": "markdown",
   "id": "68efbbc7-dd05-4668-9af8-d10f964a9cba",
   "metadata": {},
   "source": [
    "## TeXLive本体のインストール\n",
    "\n",
    "まずTeXLive本体をインストールします。\n",
    "全部インストールすると時間がかかるので、ここでは最小限をインストールして、後から必要なパッケージを追加する操作を行います。\n",
    "\n",
    "1. [TeXLiveのWindows版ダウンロードページ](https://www.tug.org/texlive/windows.html) (https://www.tug.org/texlive/windows.html)から`install-tl-windows.exe`をダウンロードする。\n",
    "2. ダウンロードしたファイルを開く。案内に従ってインストールを進める。\n",
    "3. インストールするパッケージをカスタムする。画像の通り選択して、インストールを進める。インストール時間は通信環境によって変動するので、あまりにも完了予想時間が長い場合は、通信環境を変えるか、別日にインストールをやり直す。"
   ]
  },
  {
   "cell_type": "markdown",
   "id": "eeac5dc6-9447-48da-adf2-87d08b9c614b",
   "metadata": {},
   "source": [
    "最低限のパッケージ (infrastructureとTeXWorks) を入れ、コマンドプロンプトから以下のコマンドで個別に入れる方法もある。\n",
    "\n",
    "```\n",
    "tlmgr install collection-basic collection-fontsextra collection-fontsrecommended collection-langjapanese collection-latex collection-latexextra collection-latexrecommended collection-luatex collection-mathscience collection-texworks collection-wintools stix2-otf everyhook \r",
    "```\n",
    "\n",
    "`tlmgr install`で不足しているパッケージを新たにインストールできる。\n",
    "他人から受け取ったテンプレートが動かない場合は不足しているパッケージを追加すること。`\n"
   ]
  },
  {
   "cell_type": "code",
   "execution_count": null,
   "id": "cb6c118c-1999-466a-8c2b-8eb5b8f1e1ad",
   "metadata": {},
   "outputs": [],
   "source": []
  }
 ],
 "metadata": {
  "kernelspec": {
   "display_name": "Python 3 (ipykernel)",
   "language": "python",
   "name": "python3"
  },
  "language_info": {
   "codemirror_mode": {
    "name": "ipython",
    "version": 3
   },
   "file_extension": ".py",
   "mimetype": "text/x-python",
   "name": "python",
   "nbconvert_exporter": "python",
   "pygments_lexer": "ipython3",
   "version": "3.11.7"
  }
 },
 "nbformat": 4,
 "nbformat_minor": 5
}
